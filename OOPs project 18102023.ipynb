{
 "cells": [
  {
   "cell_type": "markdown",
   "id": "3f8e105e",
   "metadata": {},
   "source": [
    "OOP Project 1\n",
    "Create a class name it as Character, and use following methods and attribute.\n",
    "-> create a constructor which can initialise the name of character\n",
    "-> create a two private attributes name it as life and score\n",
    "-> set life = 3 and score = 0\n",
    "-> create a methods name it as kicked, punched, stabbed which does the following\n",
    "action\n",
    "\n",
    "- when kicked is called, it should increment the score atrribute by 10\n",
    "- when punched is called, it should increment the score attribute by 5\n",
    "- when stabbed is called, it should decrement the life attribute by 1\n",
    "-> create two more method name it as, displaylife and displayscore which does the\n",
    "follwoing action\n",
    "\n",
    "- when displaylife is called, it return current life attribute value\n",
    "- when displayscore is called, it return current score attribute value\n",
    "\n",
    "Perform the following operations with Character class\n",
    "-> create 1 object for Character class and initialise the name as Mario\n",
    "\n",
    "-> call the kicked method\n",
    "-> call the stabbed method\n",
    "-> call punched method\n",
    "-> call stabbed method"
   ]
  },
  {
   "cell_type": "code",
   "execution_count": 1,
   "id": "1184cbdf",
   "metadata": {},
   "outputs": [],
   "source": [
    "class character:\n",
    "    def __init__(self,name):\n",
    "        self.name=name\n",
    "        self.life=3\n",
    "        self.score=0\n",
    "    def kicked(self):\n",
    "        self.score += 10\n",
    "    def punched(self):\n",
    "        self.score += 5\n",
    "    def stabbed(self):\n",
    "        self.life -= 1\n",
    "    def display_life(self):\n",
    "        return self.life\n",
    "    def display_score(self):\n",
    "        return self.score"
   ]
  },
  {
   "cell_type": "code",
   "execution_count": 2,
   "id": "687334aa",
   "metadata": {},
   "outputs": [],
   "source": [
    "obj1=character(\"Mario\")"
   ]
  },
  {
   "cell_type": "code",
   "execution_count": 3,
   "id": "de3fea22",
   "metadata": {},
   "outputs": [],
   "source": [
    "obj1.kicked()"
   ]
  },
  {
   "cell_type": "code",
   "execution_count": 4,
   "id": "26cdba42",
   "metadata": {},
   "outputs": [],
   "source": [
    "obj1.stabbed()"
   ]
  },
  {
   "cell_type": "code",
   "execution_count": 5,
   "id": "c116fa56",
   "metadata": {},
   "outputs": [],
   "source": [
    "obj1.punched()"
   ]
  },
  {
   "cell_type": "code",
   "execution_count": 6,
   "id": "f3245097",
   "metadata": {},
   "outputs": [],
   "source": [
    "obj1.stabbed()"
   ]
  },
  {
   "cell_type": "code",
   "execution_count": 7,
   "id": "1d6fef59",
   "metadata": {},
   "outputs": [
    {
     "data": {
      "text/plain": [
       "1"
      ]
     },
     "execution_count": 7,
     "metadata": {},
     "output_type": "execute_result"
    }
   ],
   "source": [
    "obj1.display_life()"
   ]
  },
  {
   "cell_type": "code",
   "execution_count": 8,
   "id": "c1d7d41a",
   "metadata": {},
   "outputs": [
    {
     "data": {
      "text/plain": [
       "15"
      ]
     },
     "execution_count": 8,
     "metadata": {},
     "output_type": "execute_result"
    }
   ],
   "source": [
    "obj1.display_score()"
   ]
  },
  {
   "cell_type": "code",
   "execution_count": null,
   "id": "639b38c6",
   "metadata": {},
   "outputs": [],
   "source": []
  },
  {
   "cell_type": "code",
   "execution_count": null,
   "id": "8ba93e9a",
   "metadata": {},
   "outputs": [],
   "source": []
  }
 ],
 "metadata": {
  "kernelspec": {
   "display_name": "Python 3 (ipykernel)",
   "language": "python",
   "name": "python3"
  },
  "language_info": {
   "codemirror_mode": {
    "name": "ipython",
    "version": 3
   },
   "file_extension": ".py",
   "mimetype": "text/x-python",
   "name": "python",
   "nbconvert_exporter": "python",
   "pygments_lexer": "ipython3",
   "version": "3.11.5"
  }
 },
 "nbformat": 4,
 "nbformat_minor": 5
}
